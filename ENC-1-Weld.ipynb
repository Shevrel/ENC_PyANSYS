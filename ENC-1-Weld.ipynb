{
 "cells": [
  {
   "cell_type": "markdown",
   "metadata": {},
   "source": [
    "## Imports"
   ]
  },
  {
   "cell_type": "code",
   "execution_count": null,
   "metadata": {},
   "outputs": [],
   "source": [
    "import math\n",
    "# import time\n",
    "import numpy as np\n",
    "import pandas as pd\n",
    "import Modules.Geometry as geo\n",
    "# from io import StringIO\n",
    "from ansys.mapdl import reader as pymapdl_reader\n",
    "from ansys.mapdl.reader import examples\n",
    "from ansys.mapdl.core import Mapdl\n",
    "from ansys.mapdl.core import launch_mapdl\n"
   ]
  },
  {
   "cell_type": "markdown",
   "metadata": {},
   "source": [
    "## Constants and Launch MAPDL"
   ]
  },
  {
   "cell_type": "code",
   "execution_count": null,
   "metadata": {},
   "outputs": [],
   "source": [
    "PI = math.pi\n",
    "\n",
    "kdictD = geo.kdictD\n",
    "R = geo.R\n",
    "\n",
    "Emodul_1 = 210000\n",
    "Emodul_2 = 210000\n",
    "Possionsratio = 0.3"
   ]
  },
  {
   "cell_type": "code",
   "execution_count": null,
   "metadata": {},
   "outputs": [],
   "source": [
    "mapdl = launch_mapdl(override=True, loglevel='ERROR')"
   ]
  },
  {
   "cell_type": "markdown",
   "metadata": {},
   "source": [
    "## Generating Geometry"
   ]
  },
  {
   "cell_type": "code",
   "execution_count": null,
   "metadata": {},
   "outputs": [],
   "source": [
    "mapdl.clear()\n",
    "mapdl.prep7()\n",
    "\n",
    "mapdl.esize(geo.esizedefault)\n",
    "mapdl.et('1', 'solid187')\n",
    "\n",
    "for key in kdictD.keys():\n",
    "    mapdl.k(key, kdictD[key][0], kdictD[key][1], kdictD[key][2])\n",
    "\n",
    "mapdl.larc(3, 5, 41, R)  # mapdl.larc(Punkt1, Punkt2,\n",
    "mapdl.larc(4, 6, 42, R)             # Mittelpunkt, Radius)\n",
    "mapdl.larc(37, 35, 47, R)\n",
    "mapdl.larc(38, 36, 48, R)\n",
    "mapdl.larc(15, 17,  43, R)\n",
    "mapdl.larc(18, 16,  44, R)\n",
    "mapdl.larc(23, 25, 45, R)\n",
    "mapdl.larc(26, 24, 46, R)\n",
    "\n",
    "# Volumen = 1 = Einspannbacken links\n",
    "mapdl.v(1, 81, 87, 39, 2, 82, 88, 40)\n",
    "# Volumen - 2 - Anschlusss-Einspannbacken-Rundung\n",
    "mapdl.v(81, 3, 37, 87, 82, 4, 38, 88)\n",
    "# Volumen - 3 - links - Rundung\n",
    "mapdl.v(3, 5, 35, 37, 4, 6, 36, 38)\n",
    "# Volumen - 4 -  Anschluss - SSK\n",
    "mapdl.v(5, 65, 79, 35, 6, 66, 80, 36)\n",
    "# Volumen - 5 - SSK\n",
    "mapdl.v(65, 67, 77, 79, 66, 68, 78, 80)\n",
    "# Volumen - 6 - SSK-Schweißnaht\n",
    "mapdl.v(67, 50, 62, 77, 68, 51, 63, 78)\n",
    "# Volumen - 7 - Schweißnaht-Steg\n",
    "mapdl.v(50, 8, 32, 62, 51, 9, 33, 63)\n",
    "# Volumen - 8 - Schweißnähte -  links oben\n",
    "mapdl.v(33, 64, 63, 9, 52, 51)\n",
    "# Volumen - 9 -Schweißnähte -  links unten\n",
    "mapdl.v(32, 62, 61, 8, 50, 49)\n",
    "\n",
    "# VOLUMEN VON BLECH3\n",
    "# Volumen - 10 - Mittelblech: +z\n",
    "mapdl.v(7, 11, 27, 31, 49, 53, 57, 61)\n",
    "# Volumen - 11 - Mittelblech: Schweißnaht +z\n",
    "mapdl.v(49, 53, 57, 61, 8, 12, 28, 32)\n",
    "# Volumen - 12 - Mittelblech: z=0\n",
    "mapdl.v(8, 12, 28, 32, 9, 13, 29, 33)\n",
    "# Volumen - 13 - Mittelblech: Schweißnaht -z\n",
    "mapdl.v(9, 13, 29, 33, 52, 56, 60, 64)\n",
    "# Volumen - 14 - Mittelblech: -z\n",
    "mapdl.v(52, 56, 60, 64, 10, 14, 30, 34)\n",
    "\n",
    "# VOLUMEN VON BLECH2\n",
    "# Volumen - 15 - Schweißnaht-Steg\n",
    "mapdl.v(12, 54, 58, 28, 13, 55, 59, 29)\n",
    "# Volumen - 16 - SSK-Schweißnaht\n",
    "mapdl.v(54, 69, 75, 58, 55, 70, 76, 59)\n",
    "# Volumen - 17 - SSK\n",
    "mapdl.v(69, 71, 73, 75, 70, 72, 74, 76)\n",
    "# Volumen - 18 -Anschluss - SSK\n",
    "mapdl.v(71, 15, 25, 73, 72, 16, 26, 74)\n",
    "\n",
    "# Volumen - 19 -Schweißnähte -  rechts oben\n",
    "mapdl.v(29, 60, 59, 13, 56, 55)\n",
    "# Volumen - 20 - Schweißnähte -  rechts unten\n",
    "mapdl.v(28, 58, 57, 12, 54, 53)\n",
    "\n",
    "# Volumen - 21 - rechts - Rundung\n",
    "mapdl.v(15, 17, 23, 25, 16, 18, 24, 26)\n",
    "# Volumen - 22 - Anschluss Einspannbacken - Rundung\n",
    "mapdl.v(17, 83, 85, 23, 18, 84, 86, 24)\n",
    "# Volumen - 23 - Einspannbacken rechts\n",
    "mapdl.v(83, 19, 21, 85, 84, 20, 22, 86)\n",
    "\n",
    "# mapdl.vglue(\"ALL\")\n",
    "mapdl.vclear('all')  # Löscht bisherige Vernetzung\n",
    "\n",
    "mapdl.allsel('all')\n",
    "mapdl.cm('abksk', 'volu')"
   ]
  },
  {
   "cell_type": "code",
   "execution_count": null,
   "metadata": {},
   "outputs": [],
   "source": [
    "mapdl.kwpave(92)\n",
    "mapdl.wprota(0, 90, 0)\n",
    "mapdl.cylind(geo.r1, geo.r2, 0, geo.W2)"
   ]
  },
  {
   "cell_type": "code",
   "execution_count": null,
   "metadata": {},
   "outputs": [],
   "source": [
    "mapdl.vsel('s', 'loc', 'x', kdictD[92][0])\n",
    "mapdl.cm('kskvolu1', 'volu')\n",
    "mapdl.allsel('all')\n",
    "mapdl.vsbv('kskvolu1', 'all', '', 'keep', 'keep')"
   ]
  },
  {
   "cell_type": "code",
   "execution_count": null,
   "metadata": {},
   "outputs": [],
   "source": [
    "mapdl.vsel('s', 'loc', 'x', kdictD[92][0])\n",
    "mapdl.vsbv('kskvolu1', 'all')"
   ]
  },
  {
   "cell_type": "code",
   "execution_count": null,
   "metadata": {},
   "outputs": [],
   "source": [
    "mapdl.lsel('s', 'loc', 'x', kdictD[92][0])\n",
    "mapdl.asll('s')\n",
    "mapdl.vsla('s')\n",
    "mapdl.vadd('all')\n",
    "mapdl.cm('kskvolu1', 'volu')\n",
    "mapdl.aslv('s')\n",
    "mapdl.asel('r', 'loc', 'y', kdictD[92][1])\n",
    "mapdl.aadd('all')\n",
    "mapdl.aslv('s')\n",
    "mapdl.asel('r', 'loc', 'y', -geo.W2/2)\n",
    "mapdl.aadd('all')\n",
    "mapdl.allsel('all')\n",
    "mapdl.vsbv('all', 'kskvolu1', '', '', 'keep')"
   ]
  },
  {
   "cell_type": "code",
   "execution_count": null,
   "metadata": {},
   "outputs": [],
   "source": [
    "mapdl.cylind(geo.r2, geo.r3, 0, geo.W2)\n",
    "mapdl.vsel('s', 'loc', 'x', kdictD[92][0])\n",
    "mapdl.cm('kskvolu2', 'volu')\n",
    "mapdl.allsel('all')\n",
    "mapdl.vsbv('kskvolu2', 'all', '', 'keep', 'keep')"
   ]
  },
  {
   "cell_type": "code",
   "execution_count": null,
   "metadata": {},
   "outputs": [],
   "source": [
    "mapdl.lsel('s', 'radius', '',  geo.r3)\n",
    "mapdl.asll('s')\n",
    "mapdl.vsla('s')\n",
    "mapdl.vsbv('kskvolu2', 'all')\n",
    "mapdl.cm('kskvolu2', 'volu')\n",
    "mapdl.allsel('all')\n",
    "mapdl.vsbv('all', 'kskvolu2', '', '', 'keep')\n",
    "mapdl.allsel('all')"
   ]
  },
  {
   "cell_type": "code",
   "execution_count": null,
   "metadata": {},
   "outputs": [],
   "source": [
    "mapdl.cmgrp('kskges', 'kskvolu1', 'kskvolu2')"
   ]
  },
  {
   "cell_type": "code",
   "execution_count": null,
   "metadata": {},
   "outputs": [],
   "source": [
    "mapdl.allsel('all')\n",
    "mapdl.vglue('all')"
   ]
  },
  {
   "cell_type": "code",
   "execution_count": null,
   "metadata": {},
   "outputs": [],
   "source": [
    "mapdl.cmsel('s', 'abksk')"
   ]
  },
  {
   "cell_type": "markdown",
   "metadata": {},
   "source": [
    "## Have to reselect weld and the volume infront of it"
   ]
  },
  {
   "cell_type": "code",
   "execution_count": null,
   "metadata": {},
   "outputs": [],
   "source": [
    "mapdl.lsel('s', 'loc', 'x', kdictD[67][0])\n",
    "mapdl.asll('s', '1')\n",
    "mapdl.vsla('s')\n",
    "mapdl.vsel('u', 'volu' , '', 'abksk')\n",
    "mapdl.cm('bllone', 'volu')\n",
    "mapdl.cmsel('a', 'abksk')\n",
    "mapdl.cm('abksk', 'volu')\n",
    "mapdl.allsel('all')\n",
    "mapdl.cmsel('all')"
   ]
  },
  {
   "cell_type": "code",
   "execution_count": null,
   "metadata": {},
   "outputs": [],
   "source": [
    "mapdl.lsel('s', 'loc', 'x', kdictD[51][0])\n",
    "mapdl.asll('s', '1')\n",
    "mapdl.vsla('s')\n",
    "mapdl.vsel('u', 'volu' , '', 'abksk')\n",
    "mapdl.cm('blltwo', 'volu')\n",
    "mapdl.cmsel('a', 'abksk')\n",
    "mapdl.cm('abksk', 'volu')\n",
    "mapdl.allsel('all')\n",
    "mapdl.cmsel('all')"
   ]
  },
  {
   "cell_type": "code",
   "execution_count": null,
   "metadata": {},
   "outputs": [],
   "source": [
    "mapdl.cmsel('all')\n",
    "mapdl.allsel('all')\n",
    "mapdl.lsel('s', 'loc', 'z', kdictD[52][2])\n",
    "mapdl.lsel('r', 'loc', 'x', kdictD[52][0])\n",
    "mapdl.asll('s')\n",
    "mapdl.asel('u', 'loc', 'x', kdictD[52][0])\n",
    "mapdl.asel('u', 'loc', 'z', kdictD[52][2])\n",
    "mapdl.vsla('s')\n",
    "mapdl.cm('sn', 'volu')\n",
    "mapdl.cmsel('a', 'abksk')\n",
    "mapdl.cm('abksk', 'volu')\n",
    "mapdl.allsel('all')\n",
    "mapdl.cmsel('all')\n",
    "mapdl.cmsel('all')"
   ]
  },
  {
   "cell_type": "markdown",
   "metadata": {},
   "source": [
    "## Reselecting outer part of the rounding"
   ]
  },
  {
   "cell_type": "code",
   "execution_count": null,
   "metadata": {},
   "outputs": [],
   "source": [
    "mapdl.vsel('u', 'volu', '', 'abksk')\n",
    "mapdl.allsel('below', 'volu')\n",
    "mapdl.lsel('r', 'radius', '', geo.r3)\n",
    "mapdl.asll('r')\n",
    "mapdl.vsla('r')\n",
    "mapdl.cm('kskvolu2', 'volu')\n",
    "mapdl.allsel('all')"
   ]
  },
  {
   "cell_type": "markdown",
   "metadata": {},
   "source": [
    "## Reselecting inner part of the rounding and group ksk to kskges"
   ]
  },
  {
   "cell_type": "code",
   "execution_count": null,
   "metadata": {},
   "outputs": [],
   "source": [
    "mapdl.vsel('u', 'volu', '', 'abksk')\n",
    "mapdl.vsel('u', 'volu', '', 'kskvolu2')\n",
    "mapdl.cm('kskvolu1', 'volu')\n",
    "mapdl.allsel('all')\n",
    "mapdl.cmgrp('kskges', 'kskvolu1', 'kskvolu2')\n",
    "mapdl.cmsel('all')"
   ]
  },
  {
   "cell_type": "markdown",
   "metadata": {},
   "source": [
    "## Meshing inner part of rounding"
   ]
  },
  {
   "cell_type": "code",
   "execution_count": null,
   "metadata": {},
   "outputs": [],
   "source": [
    "mapdl.cmsel('s', 'kskvolu1')\n",
    "mapdl.allsel('below', 'volu')\n",
    "mapdl.kesize('all', geo.esizeksk)\n",
    "mapdl.lesize('all', geo.esizeksk)\n",
    "mapdl.aesize('all', geo.esizeksk)\n",
    "mapdl.vmesh('all')\n",
    "mapdl.allsel('all')\n",
    "mapdl.cmsel('all')"
   ]
  },
  {
   "cell_type": "markdown",
   "metadata": {},
   "source": [
    "## Meshing outer part of rounding"
   ]
  },
  {
   "cell_type": "code",
   "execution_count": null,
   "metadata": {},
   "outputs": [],
   "source": [
    "mapdl.cmsel('s', 'kskvolu2')\n",
    "mapdl.allsel('below', 'volu')\n",
    "mapdl.kesize('all', geo.esize2)\n",
    "mapdl.lesize('all', geo.esize2)\n",
    "mapdl.aesize('all', geo.esize2)\n",
    "mapdl.vmesh('all')\n",
    "mapdl.allsel('all')\n",
    "mapdl.cmsel('all')"
   ]
  },
  {
   "cell_type": "markdown",
   "metadata": {},
   "source": [
    "## Coarser mesh after 0.4 * T"
   ]
  },
  {
   "cell_type": "code",
   "execution_count": null,
   "metadata": {},
   "outputs": [],
   "source": [
    "mapdl.esize(1)\n",
    "mapdl.asel('s', 'loc', 'x', kdictD[68][0])\n",
    "mapdl.allsel('below', 'area')\n",
    "mapdl.kesize('all', 2)\n",
    "mapdl.lesize('all', 2)\n",
    "mapdl.cmsel('s', 'bllone')\n",
    "mapdl.vmesh('all')"
   ]
  },
  {
   "cell_type": "markdown",
   "metadata": {},
   "source": [
    "## Coarser mesh after 1.0 * T"
   ]
  },
  {
   "cell_type": "code",
   "execution_count": null,
   "metadata": {},
   "outputs": [],
   "source": [
    "mapdl.asel('s', 'loc', 'x', kdictD[66][0])\n",
    "mapdl.allsel('below', 'area')\n",
    "mapdl.kesize('all', 5)\n",
    "mapdl.lesize('all', 5)\n",
    "mapdl.aesize('all', 5)\n",
    "mapdl.allsel('all')"
   ]
  },
  {
   "cell_type": "markdown",
   "metadata": {},
   "source": [
    "## Meshing of middle volume in horizontal sheet between two welds"
   ]
  },
  {
   "cell_type": "code",
   "execution_count": null,
   "metadata": {},
   "outputs": [],
   "source": [
    "mapdl.cmsel('s', 'blltwo')\n",
    "mapdl.allsel('below', 'volu')\n",
    "mapdl.kesize('all')\n",
    "mapdl.lesize('all')\n",
    "mapdl.aesize('all')\n",
    "mapdl.vmesh('all')\n",
    "mapdl.allsel('all')\n",
    "mapdl.cmsel('all')"
   ]
  },
  {
   "cell_type": "markdown",
   "metadata": {},
   "source": [
    "## Meshing remaining volumes"
   ]
  },
  {
   "cell_type": "code",
   "execution_count": null,
   "metadata": {},
   "outputs": [],
   "source": [
    "# mapdl.cmsel('s', 'abksk')\n",
    "# mapdl.allsel('below', 'volu')\n",
    "# mapdl.kesize('all', geo.esizedefault)\n",
    "# mapdl.lesize('all', geo.esizedefault)\n",
    "# mapdl.aesize('all', geo.esizedefault)\n",
    "mapdl.esize(5)\n",
    "mapdl.vmesh(4, 5)\n",
    "mapdl.vmesh(17, 18)"
   ]
  },
  {
   "cell_type": "code",
   "execution_count": null,
   "metadata": {},
   "outputs": [],
   "source": [
    "mapdl.esize(10)\n",
    "mapdl.vmesh(1, 3)\n",
    "mapdl.vmesh(21, 23)\n",
    "mapdl.eplot(notebook=False)"
   ]
  },
  {
   "cell_type": "markdown",
   "metadata": {},
   "source": [
    "## Exit Mapdl"
   ]
  },
  {
   "cell_type": "code",
   "execution_count": null,
   "metadata": {},
   "outputs": [],
   "source": [
    "mapdl.exit()"
   ]
  },
  {
   "cell_type": "code",
   "execution_count": null,
   "metadata": {},
   "outputs": [],
   "source": []
  }
 ],
 "metadata": {
  "interpreter": {
   "hash": "4734d9aaf5711e6c1a8dddd5aab7d19b541720991ddb040ae2866fbf9e6a51f3"
  },
  "kernelspec": {
   "display_name": "Python 3.8.10 64-bit ('py38_MA': virtualenv)",
   "name": "python3"
  },
  "language_info": {
   "codemirror_mode": {
    "name": "ipython",
    "version": 3
   },
   "file_extension": ".py",
   "mimetype": "text/x-python",
   "name": "python",
   "nbconvert_exporter": "python",
   "pygments_lexer": "ipython3",
   "version": "3.8.10"
  },
  "orig_nbformat": 4
 },
 "nbformat": 4,
 "nbformat_minor": 2
}
